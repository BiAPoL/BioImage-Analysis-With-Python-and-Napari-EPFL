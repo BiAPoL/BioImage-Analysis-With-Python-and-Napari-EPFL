{
    "cells": [
        {
            "cell_type": "markdown",
            "id": "edf7b19c-20f1-43b4-b3cb-cdf6a2843749",
            "metadata": {},
            "source": [
                "# Plotting Data with Python"
            ]
        },
        {
            "cell_type": "markdown",
            "id": "d387cfd5-3d79-4817-84b0-50da2bf09612",
            "metadata": {},
            "source": [
                "Data, be it images or object features, can and must be plotted for a better understanding of their properties or relationships. We already saw that we can use [napari]() to interactively visualize images. Sometimes, we may want to have a static view inside a notebook to consistently share with collaborators or as material in a publication.\n",
                "\n",
                "Python has many libraries for plotting data, like [matplotlib](https://matplotlib.org/stable/gallery/index.html), [seaborn](https://seaborn.pydata.org/), [plotly](https://plotly.com/python/) and [bokeh](https://docs.bokeh.org/en/latest/docs/gallery.html#standalone-examples), to name a few. Some libraries ship plotting function inside them as a convenience. For example, the pandas method [`.plot`](https://pandas.pydata.org/docs/user_guide/10min.html#plotting) can plot graphs directly from dataframes.\n",
                "\n",
                "In this notebook, we will explain the basics of [Matplotlib](https://matplotlib.org/stable/gallery/index.html), probably the most flexible and traditional library to display images and data in Python.\n",
                "\n",
                "Knowing a bit of its syntax help understanding other higher level libraries."
            ]
        },
        {
            "cell_type": "code",
            "execution_count": null,
            "id": "c9f956ed-5f7d-4448-80bb-aaabd605176b",
            "metadata": {},
            "outputs": [],
            "source": [
                "import pandas as pd\n",
                "import numpy as np\n",
                "from skimage.io import imread\n",
                "import matplotlib.pyplot as plt"
            ]
        },
        {
            "cell_type": "markdown",
            "id": "590bf61d-b47e-4f6c-b6ff-3694d3aa2df2",
            "metadata": {},
            "source": [
                "## Reading data"
            ]
        },
        {
            "cell_type": "markdown",
            "id": "ea04652c-6049-4d30-980d-2118948967da",
            "metadata": {},
            "source": [
                "In this notebook, we will use an image and a table to plot. Let's read them.\n",
                "\n",
                "The table contains continuous data from 2 images, identified by the last categorical column 'file_name'."
            ]
        },
        {
            "cell_type": "code",
            "execution_count": null,
            "id": "838cfa27-36c7-4117-b03c-c7227d40b02b",
            "metadata": {},
            "outputs": [],
            "source": [
                "image1 = imread(\"../../data/BBBC007_batch/20P1_POS0010_D_1UL.tif\")\n",
                "\n",
                "df = pd.read_csv(\"../../data/BBBC007_analysis.csv\")"
            ]
        },
        {
            "cell_type": "code",
            "execution_count": null,
            "id": "747ad7d7-dcb7-4790-a1bf-7566ca15a5a8",
            "metadata": {},
            "outputs": [],
            "source": [
                "df.head(5)"
            ]
        },
        {
            "cell_type": "markdown",
            "id": "96edec1b-965a-4875-b3e5-bc52582e03df",
            "metadata": {},
            "source": [
                "## Plotting an image with matplotlib"
            ]
        },
        {
            "cell_type": "markdown",
            "id": "c12337db-ac14-45fa-a35b-fea5f81ae17f",
            "metadata": {},
            "source": [
                "To start, we briefly recap how we display images. You just need a single line:"
            ]
        },
        {
            "cell_type": "code",
            "execution_count": null,
            "id": "0dc93a66-bb22-4e34-8168-3f767fbfbb0b",
            "metadata": {},
            "outputs": [],
            "source": [
                "plt.imshow(image1)"
            ]
        },
        {
            "cell_type": "markdown",
            "id": "d2a4a70a-7551-4695-ac16-f616c4404011",
            "metadata": {},
            "source": [
                "## Plotting a graph with matplotlib"
            ]
        },
        {
            "cell_type": "markdown",
            "id": "78ba8a4f-254e-423a-8503-0dd377b197f7",
            "metadata": {},
            "source": [
                "To plot a graph with matplotlib, like a scatter plot, we need to get the data from the table and feed it to `plt.scatter`.\n",
                "\n",
                "Let's plot the aspect_ratio vs mean_intensity."
            ]
        },
        {
            "cell_type": "code",
            "execution_count": null,
            "id": "897d1ec2-dd55-4651-a977-7eb296387dd8",
            "metadata": {},
            "outputs": [],
            "source": [
                "x = df['aspect_ratio']\n",
                "y = df['intensity_mean']\n",
                "\n",
                "plt.scatter(x, y)"
            ]
        },
        {
            "cell_type": "markdown",
            "id": "cdacb4e3-f7ba-4562-a4b9-84f65f933ade",
            "metadata": {},
            "source": [
                "In a similar fashion, it is possible to provide extra arguments to customize plots like this. Below, we change the marker [symbol](https://matplotlib.org/stable/api/markers_api.html#module-matplotlib.markers), marker size (`s`), color and make marker half transparent (`alpha`). "
            ]
        },
        {
            "cell_type": "code",
            "execution_count": null,
            "id": "e61cba7c-e6d1-4170-88f6-a978306d8a0e",
            "metadata": {},
            "outputs": [],
            "source": [
                "fig, ax = plt.subplots(figsize=(7,4))\n",
                "ax.scatter(x, y, color='magenta', marker='*', s=80, alpha=0.5)\n",
                "ax.set_xlabel('aspect ratio')\n",
                "ax.set_ylabel('mean intensity')\n",
                "ax.set_title('Aspect Ratio vs. Intensity')"
            ]
        },
        {
            "cell_type": "markdown",
            "id": "d75b3480-07af-47c0-887f-2880671c70d2",
            "metadata": {
                "tags": []
            },
            "source": [
                "## Configuring figure and axes"
            ]
        },
        {
            "cell_type": "markdown",
            "id": "4a425a12-8cc0-434a-b1bd-b0a7b2b8caf3",
            "metadata": {},
            "source": [
                "Besides plotting graphs as shown above, we usually want to furhter configure the figure and its axes, like provide the names to the axes, change the figure size and maybe have more than one plot in the same figure.\n",
                "\n",
                "To be able to do all that and more, it is necessary to have handles: variables that represent the figure and the axes objects. We can have access to them by, before plotting, creating an empty figure with the function `plt.subplots`."
            ]
        },
        {
            "cell_type": "code",
            "execution_count": null,
            "id": "70b872b1-f00d-4e71-b4be-c867a8a0a230",
            "metadata": {},
            "outputs": [],
            "source": [
                "fig, ax = plt.subplots()"
            ]
        },
        {
            "cell_type": "markdown",
            "id": "5c568c60-c8c9-4459-a482-f8c8a4dfe2e6",
            "metadata": {},
            "source": [
                "Let's add our plot to this new figure. We now do that by passing the `scatter` function as an axes method."
            ]
        },
        {
            "cell_type": "code",
            "execution_count": null,
            "id": "1bb3b843-29a4-4cd8-b326-eb3cb1ad18b7",
            "metadata": {},
            "outputs": [],
            "source": [
                "fig, ax = plt.subplots()\n",
                "ax.scatter(x, y, color = 'magenta', marker = '*', s = 200, alpha = 0.5)"
            ]
        },
        {
            "cell_type": "markdown",
            "id": "7db9f9d7-536a-4e9b-b946-dd4c2661aa57",
            "metadata": {},
            "source": [
                "OK, we got the same figure back, so what?\n",
                "\n",
                "The difference is that now we have access to the figure handles! This adds a lot of editability.\n",
                "\n",
                "Let's give axes proper names, put a title and increase the figure size.\n",
                "\n",
                "*Note: the default figure size is [6.4, 4.8] inches (width, height)*"
            ]
        },
        {
            "cell_type": "code",
            "execution_count": null,
            "id": "84b0bf55-e9a7-4975-a4d0-aaadb7081dc1",
            "metadata": {},
            "outputs": [],
            "source": [
                "fig, ax = plt.subplots(figsize = [10,6])\n",
                "ax.scatter(x, y, color = 'magenta', marker = '*', s = 200, alpha = 0.5)\n",
                "ax.set_xlabel('aspect_ratio')\n",
                "ax.set_ylabel('intensity_mean')\n",
                "ax.set_title('Aspect Ratio vs Intensity')"
            ]
        },
        {
            "cell_type": "markdown",
            "id": "84cde5ae-880c-4011-9725-49c4f7ad4963",
            "metadata": {},
            "source": [
                "## Subplots"
            ]
        },
        {
            "cell_type": "markdown",
            "id": "29da76a4-89cb-40ab-bfd3-3e3a58772776",
            "metadata": {},
            "source": [
                "So far we are plotting one image or graph per figure containing all the data.\n",
                "\n",
                "We could also make a grid plot by providing the number of rows and columns of the grid to `plt.subplots`"
            ]
        },
        {
            "cell_type": "code",
            "execution_count": null,
            "id": "4aef2322-fd57-4d0a-9425-f4ab8aa609fd",
            "metadata": {},
            "outputs": [],
            "source": [
                "fig, ax = plt.subplots(1,2, figsize = [10,6])"
            ]
        },
        {
            "cell_type": "code",
            "execution_count": null,
            "id": "b023f78d-d30b-4937-9118-31484f870ad1",
            "metadata": {},
            "outputs": [],
            "source": [
                "ax"
            ]
        },
        {
            "attachments": {},
            "cell_type": "markdown",
            "id": "193d065f-a1fd-49a7-b07e-e5f87ddea1f1",
            "metadata": {},
            "source": [
                "Now our axes has two elements because we specified 1 row and 2 columns.\n"
            ]
        },
        {
            "cell_type": "markdown",
            "id": "3b95bdde",
            "metadata": {},
            "source": [
                "\n",
                "Imagine each file was a different experimental group. We can now plot the same relationship, separated by image file on different axes, but in the same figure. \n",
                "\n",
                "First, we get data separated by 'file_name'. "
            ]
        },
        {
            "cell_type": "code",
            "execution_count": null,
            "id": "d2cdf5de-a6be-40eb-ba81-8645f08bdc9b",
            "metadata": {},
            "outputs": [],
            "source": [
                "# Aspect ratio and intensity where 'file_name' equals first file name\n",
                "x1 = df[df['file_name'] == '20P1_POS0010_D_1UL']['aspect_ratio']\n",
                "y1 = df[df['file_name'] == '20P1_POS0010_D_1UL']['intensity_mean']\n",
                "\n",
                "# Aspect ratio and intensity where 'file_name' equals second file name\n",
                "x2 = df[df['file_name'] == '20P1_POS0007_D_1UL']['aspect_ratio']\n",
                "y2 = df[df['file_name'] == '20P1_POS0007_D_1UL']['intensity_mean']"
            ]
        },
        {
            "cell_type": "markdown",
            "id": "44aa4942-3586-4f9e-ba60-3b61bdbccd31",
            "metadata": {},
            "source": [
                "Then, specify an index to the axes to indicate which axis will get the plot."
            ]
        },
        {
            "cell_type": "code",
            "execution_count": null,
            "id": "fef4c210-7f49-4b10-8ddf-cc4871a72251",
            "metadata": {},
            "outputs": [],
            "source": [
                "# Get major_axis_length from table\n",
                "major_axis_length = df['major_axis_length']\n",
                "# Create empty figure and axes grid\n",
                "fig, ax = plt.subplots(1,2, figsize = [10,6])\n",
                "# Configure plot and properties of first axis\n",
                "ax[0].scatter(x1, y1, color = 'magenta', marker = '*', s = 200, alpha = 0.5)\n",
                "ax[0].set_xlabel('aspect_ratio')\n",
                "ax[0].set_ylabel('intensity_mean')\n",
                "ax[0].set_title('Image1: Aspect Ratio vs Intensity')\n",
                "\n",
                "# Configure plot and properties of second axis\n",
                "ax[1].scatter(x2, y2, color = 'blue', marker = 'D', s = 100, alpha = 0.5)\n",
                "ax[1].set_xlabel('aspect_ratio')\n",
                "ax[1].set_ylabel('intensity_mean')\n",
                "ax[1].set_title('Image2: Aspect Ratio vs Intensity')\n",
                "\n",
                "# Hint: this command in the end is very useful when axes labels overlap\n",
                "plt.tight_layout()"
            ]
        },
        {
            "cell_type": "markdown",
            "id": "3b84ddbc-2079-48c9-a38b-b0a34abd6d27",
            "metadata": {},
            "source": [
                "# Introduction to Seaborn"
            ]
        },
        {
            "cell_type": "markdown",
            "id": "bbbcdd64-9f9f-4114-9359-20b24436dd62",
            "metadata": {},
            "source": [
                "The definition of seaborn's website is so concise that we replicate it here:\n",
                "\n",
                "\"Seaborn is a library for making statistical graphics in Python. It builds on top of matplotlib and integrates closely with pandas data structures.\"\n",
                "\n",
                "That's it! The main benefit of using it is that it is a more high-level library, which means we can achieve sophisticated plots with much less lines of code. Most axes style customization are done automatically. It can automatically provide plots with summary statistics."
            ]
        },
        {
            "cell_type": "code",
            "execution_count": null,
            "id": "ec137599-b8bd-4666-b5f7-13e94243b50e",
            "metadata": {},
            "outputs": [],
            "source": [
                "import seaborn as sns"
            ]
        },
        {
            "cell_type": "markdown",
            "id": "ee542235-d3e1-485a-aa65-ac410c6d558c",
            "metadata": {},
            "source": [
                "We will apply the seaborn default theme, but you can choose others [here](https://seaborn.pydata.org/tutorial/aesthetics.html#seaborn-figure-styles)."
            ]
        },
        {
            "cell_type": "code",
            "execution_count": null,
            "id": "4e5f2908-a83c-4342-9690-eb55abdb0e37",
            "metadata": {},
            "outputs": [],
            "source": [
                "sns.set_theme(style=\"ticks\")"
            ]
        },
        {
            "cell_type": "markdown",
            "id": "1e2c1579-8df5-4e70-bd10-8a6095f2d564",
            "metadata": {},
            "source": [
                "## Scatter plots with seaborn"
            ]
        },
        {
            "cell_type": "markdown",
            "id": "88932903-b980-42a3-b6e8-3f42327735c6",
            "metadata": {},
            "source": [
                "Let's load the same dataframe."
            ]
        },
        {
            "cell_type": "code",
            "execution_count": null,
            "id": "c0a502d8-9181-47b4-8e6b-63b37ed3a8d4",
            "metadata": {},
            "outputs": [],
            "source": [
                "df = pd.read_csv(\"../../data/BBBC007_analysis.csv\")\n",
                "df.head()"
            ]
        },
        {
            "cell_type": "markdown",
            "id": "b2bc163b-f517-4828-acdd-d34c84283c36",
            "metadata": {},
            "source": [
                "And make a scatter plot of aspect_ratio vs intensity mean."
            ]
        },
        {
            "cell_type": "code",
            "execution_count": null,
            "id": "a356baf0-671d-46a4-a182-7cac726cacba",
            "metadata": {},
            "outputs": [],
            "source": [
                "sns.scatterplot(data=df, x=\"aspect_ratio\", y=\"intensity_mean\")"
            ]
        },
        {
            "cell_type": "markdown",
            "id": "68e01c4b-37a3-4fe4-877b-3bc8218644e1",
            "metadata": {},
            "source": [
                "We can already embbed and visualize other features by providing a few extra arguments."
            ]
        },
        {
            "cell_type": "code",
            "execution_count": null,
            "id": "4a5d43d7-2f4b-46f0-b938-e72e2689fd6d",
            "metadata": {},
            "outputs": [],
            "source": [
                "sns.scatterplot(data=df, x=\"aspect_ratio\", y=\"intensity_mean\", size=\"area\", hue=\"major_axis_length\", palette='magma')"
            ]
        },
        {
            "cell_type": "markdown",
            "id": "62986545-6187-427a-8904-ef281ad16970",
            "metadata": {},
            "source": [
                "## Scatter plots with subplots"
            ]
        },
        {
            "attachments": {},
            "cell_type": "markdown",
            "id": "f5ad8619-43c0-4e8a-9dd0-75964c2c3188",
            "metadata": {},
            "source": [
                "The `scatterplot` function is an axes-level function. This means, if we want to add subplots, we also need to create figure and axes from matplotlib first and pass the axes handles. That's when knowing some matplotlib syntax may be handy!\n",
                "\n",
                "However, seaborn also has figure-level functions, where the subplots are also just an argument.\n",
                "\n",
                "In the example below, we use the `relplot` function (from *relationship*) and separate the files by providing 'file_name' to the argument `col`,"
            ]
        },
        {
            "cell_type": "code",
            "execution_count": null,
            "id": "f4635e5a-93f3-4b0d-9378-094454e69f44",
            "metadata": {},
            "outputs": [],
            "source": [
                "sns.relplot(data=df, x=\"aspect_ratio\", y=\"intensity_mean\", size=\"area\", hue=\"major_axis_length\", col=\"file_name\", palette='magma', height=3.5, aspect=1)"
            ]
        },
        {
            "cell_type": "markdown",
            "id": "eb20ef1a-2ebe-47c7-aff5-99843e4ef409",
            "metadata": {},
            "source": [
                "## Adding a line regression model"
            ]
        },
        {
            "cell_type": "markdown",
            "id": "f09a00c2-e4b8-40be-a111-3fb8fa36c62e",
            "metadata": {},
            "source": [
                "There are two functions to make a scatter plot with a line regression model: `regplot` and `lmplot`. As before, `regplot` is an axes-level funtion while `lmplot` is a figure-level function.\n",
                "\n",
                "Let's plot an example of each of them"
            ]
        },
        {
            "cell_type": "code",
            "execution_count": null,
            "id": "970477eb-bb57-4ff7-874f-23139bee3948",
            "metadata": {},
            "outputs": [],
            "source": [
                "sns.regplot(data=df, x=\"aspect_ratio\", y=\"intensity_mean\")"
            ]
        },
        {
            "cell_type": "markdown",
            "id": "9345a570-d4d6-48c2-a746-7589aad735ce",
            "metadata": {},
            "source": [
                "### Line Regression with subplots"
            ]
        },
        {
            "cell_type": "code",
            "execution_count": null,
            "id": "62f9f523-9f92-410a-8a36-334aa0c897f7",
            "metadata": {},
            "outputs": [],
            "source": [
                "sns.lmplot(data=df, x=\"aspect_ratio\", y=\"intensity_mean\", col=\"file_name\", height=3.5)"
            ]
        },
        {
            "cell_type": "markdown",
            "id": "3b84ddbc-2079-48c9-a38b-b0a34abd6d27",
            "metadata": {},
            "source": [
                "# Plotting Distributions with Seaborn"
            ]
        },
        {
            "cell_type": "markdown",
            "id": "ed4b3c99-c91c-46e5-b83f-0767205dfca5",
            "metadata": {},
            "source": [
                "## Boxplots"
            ]
        },
        {
            "cell_type": "markdown",
            "id": "b78a5029-eab9-4b2f-af69-2009535172d5",
            "metadata": {},
            "source": [
                "The axes function for plotting boxplots is `boxplot`.\n",
                "\n",
                "Seaborn already identified `file_name` as a categorical value and `ìntensity_mean` as a numerical value. Thus, it plots boxplots for the intensity variable. If we invert x and y, we still get the same graph, but as vertical bosplots."
            ]
        },
        {
            "cell_type": "code",
            "execution_count": null,
            "id": "3e9fcfc2-8634-4f80-b361-538c5e084117",
            "metadata": {},
            "outputs": [],
            "source": [
                "boxplot = sns.boxplot(data=df, x=\"intensity_mean\", y=\"file_name\")"
            ]
        },
        {
            "cell_type": "markdown",
            "id": "84b6a793-7829-45a7-9ecf-8c824ca5aed3",
            "metadata": {},
            "source": [
                "The figure-level, and more general, version of this kind of plot is `catplot`. We just have to provide `kind` as `box`."
            ]
        },
        {
            "cell_type": "code",
            "execution_count": null,
            "id": "c9b2cd94-b738-4c18-b30a-c2b5bcb5fc32",
            "metadata": {},
            "outputs": [],
            "source": [
                "sns.catplot(data=df, \n",
                "            x=\"intensity_mean\",\n",
                "            y=\"file_name\", \n",
                "            kind=\"box\",\n",
                "            height=3.5,\n",
                "            aspect=2/1)"
            ]
        },
        {
            "attachments": {},
            "cell_type": "markdown",
            "id": "5da21648-38e7-4e1c-90f5-e1f2d0fa83d2",
            "metadata": {},
            "source": [
                "`catplot` is for many kinds of categorical plots, for example a `strip` plot."
            ]
        },
        {
            "cell_type": "code",
            "execution_count": null,
            "id": "e95df95a-b4e0-4ca5-b94d-0512fb09058f",
            "metadata": {},
            "outputs": [],
            "source": [
                "sns.catplot(data=df, x=\"file_name\", y=\"intensity_mean\", kind=\"strip\", height=3.5, aspect=3/2)"
            ]
        },
        {
            "cell_type": "markdown",
            "id": "1e2c1579-8df5-4e70-bd10-8a6095f2d564",
            "metadata": {},
            "source": [
                "## Histograms and Distribution Plots"
            ]
        },
        {
            "cell_type": "markdown",
            "id": "e05666b2-84b9-4c07-a531-17af8496c28d",
            "metadata": {},
            "source": [
                "The axes-level function for plotting histograms is `histplot`."
            ]
        },
        {
            "cell_type": "code",
            "execution_count": null,
            "id": "467d56e3-4e6e-4e01-b67b-c0319734a7e0",
            "metadata": {},
            "outputs": [],
            "source": [
                "sns.histplot(data=df, x=\"intensity_mean\", hue=\"file_name\")"
            ]
        },
        {
            "cell_type": "markdown",
            "id": "5d7b511b-8e8c-4f7d-97d5-f25cc0bcf8fa",
            "metadata": {},
            "source": [
                "We can instead plot the kernel density estimation (kde) with `kdeplot` function. Just be careful while interpreting these plots (check some pitfalls [here](https://seaborn.pydata.org/tutorial/distributions.html#kernel-density-estimation-pitfalls))"
            ]
        },
        {
            "cell_type": "code",
            "execution_count": null,
            "id": "450fe3a4-3069-4370-8b63-c4142ae77713",
            "metadata": {},
            "outputs": [],
            "source": [
                "sns.kdeplot(data=df, x=\"intensity_mean\", hue=\"file_name\")"
            ]
        },
        {
            "cell_type": "markdown",
            "id": "a4992a72-2d5a-4382-b44c-91050e53408e",
            "metadata": {},
            "source": [
                "The figure-level function for distributions is `distplot`. With it, you can have histograms and kde in the same plot, or other kinds of plots, like the empirical cumulative distribution function (ecdf)."
            ]
        },
        {
            "cell_type": "code",
            "execution_count": null,
            "id": "0f61843d-2f1a-4602-8a7e-295ff64c650a",
            "metadata": {},
            "outputs": [],
            "source": [
                "plot = sns.displot(data=df, x=\"intensity_mean\", hue=\"file_name\", kde=True, height=3.5, aspect=3/2)\n",
                "sns.move_legend(plot, 'upper left', bbox_to_anchor=(0.1,1))"
            ]
        },
        {
            "cell_type": "markdown",
            "id": "3b84ddbc-2079-48c9-a38b-b0a34abd6d27",
            "metadata": {},
            "source": [
                "# Multivariate views"
            ]
        },
        {
            "cell_type": "markdown",
            "id": "23618ebe-f01c-47b9-aa85-ce4ad6d01619",
            "metadata": {},
            "source": [
                "In this notebook, we show a few examples of how to have plots with graphs of different types in a figure, like having a scatter plot with marginal distributions or even a multivariate plot with pair relationships of all properties in a table.\n",
                "\n",
                "Because these plots involve managing subplots, they are all figure-level functions."
            ]
        },
        {
            "cell_type": "markdown",
            "id": "ed4b3c99-c91c-46e5-b83f-0767205dfca5",
            "metadata": {},
            "source": [
                "## Plotting joint and marginal distributions"
            ]
        },
        {
            "cell_type": "markdown",
            "id": "a14bad1a-c992-4fc3-8da9-8a9e07e1560b",
            "metadata": {},
            "source": [
                "To have a joint distribution of two variableswith the marginal distributions on the sides, we can use `jointplot`."
            ]
        },
        {
            "cell_type": "code",
            "execution_count": null,
            "id": "f6ca04a6-23b7-4851-8089-1faa8d02c000",
            "metadata": {},
            "outputs": [],
            "source": [
                "sns.jointplot(data=df, x=\"aspect_ratio\", y=\"area\")"
            ]
        },
        {
            "cell_type": "markdown",
            "id": "3f400c05-00e1-4295-9681-857871b6be51",
            "metadata": {},
            "source": [
                "As expected, it is possible to separate groups by passing a categorical property to the `hue` argument. This has an effect on the marginal distribution, turning them from histogram to kde plots."
            ]
        },
        {
            "cell_type": "code",
            "execution_count": null,
            "id": "3e9fcfc2-8634-4f80-b361-538c5e084117",
            "metadata": {},
            "outputs": [],
            "source": [
                "sns.jointplot(data=df, x=\"aspect_ratio\", y=\"area\", hue='file_name', height=5)"
            ]
        },
        {
            "cell_type": "markdown",
            "id": "d180362a-29a1-42b5-8734-bf23ef5f1442",
            "metadata": {},
            "source": [
                "## Plotting many distributions at once"
            ]
        },
        {
            "cell_type": "markdown",
            "id": "165c2544-3086-486d-b9a4-0f4eeb83e2ed",
            "metadata": {},
            "source": [
                "The above examples displayed a plot with relationship between two properties. This can be further expanded with the `pairplot` function"
            ]
        },
        {
            "cell_type": "code",
            "execution_count": null,
            "id": "c9b2cd94-b738-4c18-b30a-c2b5bcb5fc32",
            "metadata": {},
            "outputs": [],
            "source": [
                "sns.pairplot(data=df, hue=\"file_name\", height=2)"
            ]
        },
        {
            "cell_type": "markdown",
            "id": "adc9dfae-4165-491c-8854-249a3ec03a8b",
            "metadata": {},
            "source": [
                "If you have too many points, displaying every single point may yield graphs too poluted. An alternative visualization in this case could be a 2D histogram plot. We can do that by changing the `kind` argument to \"hist\"."
            ]
        },
        {
            "cell_type": "code",
            "execution_count": null,
            "id": "99eace07-edbf-4d1f-adf4-d286561a04bd",
            "metadata": {},
            "outputs": [],
            "source": [
                "sns.pairplot(data=df, hue=\"file_name\", kind = \"hist\", height=2)"
            ]
        },
        {
            "attachments": {},
            "cell_type": "markdown",
            "id": "05dd40e3-4b9a-44b8-8bfc-610f79809d06",
            "metadata": {
                "tags": []
            },
            "source": [
                "## Exercise 1"
            ]
        },
        {
            "cell_type": "markdown",
            "id": "4acf97f1-efcb-4f27-851f-643e3bfa0bae",
            "metadata": {},
            "source": [
                "Plot a line regression model on a single plot, with points and lines having different colors according to 'file_name'.\n",
                "\n",
                "*Hint: use a function that accepts a `hue` argument*"
            ]
        },
        {
            "cell_type": "code",
            "execution_count": null,
            "id": "9ee0c368-7b49-4f24-86a7-8ab65873f72f",
            "metadata": {},
            "outputs": [],
            "source": []
        },
        {
            "attachments": {},
            "cell_type": "markdown",
            "id": "05dd40e3-4b9a-44b8-8bfc-610f79809d06",
            "metadata": {
                "tags": []
            },
            "source": [
                "## Exercise 2"
            ]
        },
        {
            "cell_type": "markdown",
            "id": "4acf97f1-efcb-4f27-851f-643e3bfa0bae",
            "metadata": {},
            "source": [
                "Plot two empirical cumulative distribution functions for 'area' from different files on a same graph with different colors.\n",
                "\n",
                "Repeat this for the property 'intensity_mean' on a second figure. Infer whether you would expect these properties to be different or not.\n",
                "\n",
                "*Hint: look for the `kind` parameter of `displot`"
            ]
        },
        {
            "cell_type": "code",
            "execution_count": null,
            "id": "9ee0c368-7b49-4f24-86a7-8ab65873f72f",
            "metadata": {},
            "outputs": [],
            "source": []
        },
        {
            "attachments": {},
            "cell_type": "markdown",
            "id": "0e4abd4d-743d-49e4-a05b-0e5b84cca506",
            "metadata": {},
            "source": [
                "## Exercise 3"
            ]
        },
        {
            "cell_type": "markdown",
            "id": "0351b141-d20a-4629-b6b5-906b70f17b0d",
            "metadata": {},
            "source": [
                "You may have noticed that the `pairplot` is redundant in some plots because the upper diagonal displays the same relationships rotated.\n",
                "\n",
                "Redraw the `pairplot` to display only the lower diagonal of the plots.\n",
                "\n",
                "*Hint: explore the properties of the [pairplot](https://seaborn.pydata.org/generated/seaborn.pairplot.html#seaborn.pairplot)*"
            ]
        },
        {
            "cell_type": "code",
            "execution_count": null,
            "id": "bfb57fec-b803-4910-a9d4-f45fe1aff60e",
            "metadata": {},
            "outputs": [],
            "source": []
        },
        {
            "cell_type": "markdown",
            "id": "4fc3848b-a240-4e79-9b0c-87a7e30dc9cc",
            "metadata": {},
            "source": [
                "## Exercise 4"
            ]
        },
        {
            "attachments": {},
            "cell_type": "markdown",
            "id": "b6a9580b-8520-4c71-b98f-968f1b4dd8ee",
            "metadata": {},
            "source": [
                "Use the following images and the corresponding data:"
            ]
        },
        {
            "cell_type": "code",
            "execution_count": null,
            "id": "bb77edb7",
            "metadata": {},
            "outputs": [],
            "source": [
                "image1 = imread(\"../../data/BBBC007_batch/20P1_POS0010_D_1UL.tif\")\n",
                "image2 = imread(\"../../data/BBBC007_batch/20P1_POS0007_D_1UL.tif\")\n",
                "data = df[ (df['file_name'] == '20P1_POS0010_D_1UL') | (df['file_name'] == '20P1_POS0007_D_1UL')]\n",
                "data\n"
            ]
        },
        {
            "attachments": {},
            "cell_type": "markdown",
            "id": "74f3744b-b09e-4fd3-b032-cde2d3f3e920",
            "metadata": {},
            "source": [
                "1. Create figure with two rows and two columns of subplots.\n",
                "2. Display the two images below in the first row of subplots\n",
                "3. Display graphs for the corresponding figures on the second row."
            ]
        },
        {
            "cell_type": "code",
            "execution_count": null,
            "id": "fe22d3fc",
            "metadata": {},
            "outputs": [],
            "source": []
        }
    ],
    "metadata": {
        "kernelspec": {
            "display_name": "Python 3.9.13 ('dbnapari-arm64')",
            "language": "python",
            "name": "python3"
        },
        "language_info": {
            "codemirror_mode": {
                "name": "ipython",
                "version": 3
            },
            "file_extension": ".py",
            "mimetype": "text/x-python",
            "name": "python",
            "nbconvert_exporter": "python",
            "pygments_lexer": "ipython3",
            "version": "3.9.13"
        },
        "vscode": {
            "interpreter": {
                "hash": "f13a533d7f6b525f1b9e27d74dd8bd7ea06c4c95ae7aaf0187c7426193b5690e"
            }
        }
    },
    "nbformat": 4,
    "nbformat_minor": 5
}